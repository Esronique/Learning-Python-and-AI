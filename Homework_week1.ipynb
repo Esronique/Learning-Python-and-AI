{
  "nbformat": 4,
  "nbformat_minor": 0,
  "metadata": {
    "colab": {
      "provenance": [],
      "authorship_tag": "ABX9TyOwTyTYwVfVV8f1r87dk2Ik",
      "include_colab_link": true
    },
    "kernelspec": {
      "name": "python3",
      "display_name": "Python 3"
    },
    "language_info": {
      "name": "python"
    }
  },
  "cells": [
    {
      "cell_type": "markdown",
      "metadata": {
        "id": "view-in-github",
        "colab_type": "text"
      },
      "source": [
        "<a href=\"https://colab.research.google.com/github/Esronique/Learning-Python-and-AI/blob/main/Homework_week1.ipynb\" target=\"_parent\"><img src=\"https://colab.research.google.com/assets/colab-badge.svg\" alt=\"Open In Colab\"/></a>"
      ]
    },
    {
      "cell_type": "code",
      "execution_count": 3,
      "metadata": {
        "colab": {
          "base_uri": "https://localhost:8080/",
          "height": 513
        },
        "id": "dXuNW_ZH23BY",
        "outputId": "25caf066-644b-41b6-cc5e-c875cb89648a"
      },
      "outputs": [
        {
          "name": "stdout",
          "output_type": "stream",
          "text": [
            "Which city would you like to eat in? Paris\n"
          ]
        },
        {
          "output_type": "display_data",
          "data": {
            "text/plain": [
              "Here are the top 3 restaurants in Paris you should consider visiting:                                              \n",
              "\n",
              "                                                   \u001b[1m1. \u001b[0m\u001b[1mLe Meurice\u001b[0m                                                   \n",
              "\n",
              "🍽️ \u001b[1mCuisine\u001b[0m: French fine dining                                                                                      \n",
              "🌟 \u001b[1mAmbiance\u001b[0m: Luxurious and artistic                                                                                \n",
              "🏛️ \u001b[1mLocation\u001b[0m: 228 Rue de Rivoli, 75001 Paris                                                                         \n",
              "🕓 \u001b[1mHighlights\u001b[0m: Michelin-starred, stunning decor inspired by the Hall of Mirrors at Versailles.                     \n",
              "\n",
              "\u001b[33m───────────────────────────────────────────────────────────────────────────────────────────────────────────────────\u001b[0m\n",
              "                                                    \u001b[1m2. \u001b[0m\u001b[1mL'Arpège\u001b[0m                                                    \n",
              "\n",
              "🌿 \u001b[1mCuisine\u001b[0m: Innovative Vegetarian                                                                                  \n",
              "🌟 \u001b[1mAmbiance\u001b[0m: Elegant and contemporary                                                                              \n",
              "🏛️ \u001b[1mLocation\u001b[0m: 84 Rue de Varenne, 75007 Paris                                                                         \n",
              "🕓 \u001b[1mHighlights\u001b[0m: Focus on seasonal vegetables, also Michelin-starred, famous for its vegetable dishes.               \n",
              "\n",
              "\u001b[33m───────────────────────────────────────────────────────────────────────────────────────────────────────────────────\u001b[0m\n",
              "                                         \u001b[1m3. \u001b[0m\u001b[1mLe Comptoir de la Gastronomie\u001b[0m                                          \n",
              "\n",
              "🥖 \u001b[1mCuisine\u001b[0m: Traditional French Bistro                                                                              \n",
              "🌟 \u001b[1mAmbiance\u001b[0m: Cozy and casual                                                                                       \n",
              "🏛️ \u001b[1mLocation\u001b[0m: 34 Rue de la Banque, 75002 Paris                                                                       \n",
              "🕓 \u001b[1mHighlights\u001b[0m: Known for its charcuterie, fresh produce, and a local favorite for a relaxed dining experience.     \n",
              "\n",
              "\u001b[33m───────────────────────────────────────────────────────────────────────────────────────────────────────────────────\u001b[0m\n",
              "Enjoy your culinary adventure in Paris! 🍷✨                                                                       \n"
            ],
            "text/html": [
              "<pre style=\"white-space:pre;overflow-x:auto;line-height:normal;font-family:Menlo,'DejaVu Sans Mono',consolas,'Courier New',monospace\">Here are the top 3 restaurants in Paris you should consider visiting:                                              \n",
              "\n",
              "                                                   <span style=\"font-weight: bold\">1. Le Meurice</span>                                                   \n",
              "\n",
              "🍽️ <span style=\"font-weight: bold\">Cuisine</span>: French fine dining                                                                                      \n",
              "🌟 <span style=\"font-weight: bold\">Ambiance</span>: Luxurious and artistic                                                                                \n",
              "🏛️ <span style=\"font-weight: bold\">Location</span>: 228 Rue de Rivoli, 75001 Paris                                                                         \n",
              "🕓 <span style=\"font-weight: bold\">Highlights</span>: Michelin-starred, stunning decor inspired by the Hall of Mirrors at Versailles.                     \n",
              "\n",
              "<span style=\"color: #808000; text-decoration-color: #808000\">───────────────────────────────────────────────────────────────────────────────────────────────────────────────────</span>\n",
              "                                                    <span style=\"font-weight: bold\">2. L'Arpège</span>                                                    \n",
              "\n",
              "🌿 <span style=\"font-weight: bold\">Cuisine</span>: Innovative Vegetarian                                                                                  \n",
              "🌟 <span style=\"font-weight: bold\">Ambiance</span>: Elegant and contemporary                                                                              \n",
              "🏛️ <span style=\"font-weight: bold\">Location</span>: 84 Rue de Varenne, 75007 Paris                                                                         \n",
              "🕓 <span style=\"font-weight: bold\">Highlights</span>: Focus on seasonal vegetables, also Michelin-starred, famous for its vegetable dishes.               \n",
              "\n",
              "<span style=\"color: #808000; text-decoration-color: #808000\">───────────────────────────────────────────────────────────────────────────────────────────────────────────────────</span>\n",
              "                                         <span style=\"font-weight: bold\">3. Le Comptoir de la Gastronomie</span>                                          \n",
              "\n",
              "🥖 <span style=\"font-weight: bold\">Cuisine</span>: Traditional French Bistro                                                                              \n",
              "🌟 <span style=\"font-weight: bold\">Ambiance</span>: Cozy and casual                                                                                       \n",
              "🏛️ <span style=\"font-weight: bold\">Location</span>: 34 Rue de la Banque, 75002 Paris                                                                       \n",
              "🕓 <span style=\"font-weight: bold\">Highlights</span>: Known for its charcuterie, fresh produce, and a local favorite for a relaxed dining experience.     \n",
              "\n",
              "<span style=\"color: #808000; text-decoration-color: #808000\">───────────────────────────────────────────────────────────────────────────────────────────────────────────────────</span>\n",
              "Enjoy your culinary adventure in Paris! 🍷✨                                                                       \n",
              "</pre>\n"
            ]
          },
          "metadata": {}
        }
      ],
      "source": [
        "import requests\n",
        "from rich import print\n",
        "from rich.markdown import Markdown\n",
        "\n",
        "def get_restaurants(city):\n",
        "  api_key = \"3af5d1040392d37b9oa8ta7a106b03d4\"\n",
        "  prompt = f\"Display the top 3 restaurants for {city}, list, well formatted, add emoji to make user friendly\"\n",
        "  api_url = f\"https://api.shecodes.io/ai/v1/generate?prompt={prompt}&key={api_key}\"\n",
        "\n",
        "  api_respondse = requests.get(api_url)\n",
        "  api_data = api_respondse.json()\n",
        "  markdown_text = Markdown(api_data['answer'])\n",
        "\n",
        "  print(markdown_text)\n",
        "\n",
        "city = input(\"Which city would you like to eat in? \")\n",
        "city = city.strip()\n",
        "\n",
        "if city:\n",
        "  get_restaurants(city)\n",
        "else:\n",
        "  print(\"Try again with a city name\")\n",
        "\n",
        "\n",
        ""
      ]
    }
  ]
}