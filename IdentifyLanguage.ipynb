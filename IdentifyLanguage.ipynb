{
  "nbformat": 4,
  "nbformat_minor": 0,
  "metadata": {
    "colab": {
      "provenance": [],
      "authorship_tag": "ABX9TyP0NzdolPMV6O4wdwWA9N+a",
      "include_colab_link": true
    },
    "kernelspec": {
      "name": "python3",
      "display_name": "Python 3"
    },
    "language_info": {
      "name": "python"
    }
  },
  "cells": [
    {
      "cell_type": "markdown",
      "metadata": {
        "id": "view-in-github",
        "colab_type": "text"
      },
      "source": [
        "<a href=\"https://colab.research.google.com/github/Esronique/Learning-Python-and-AI/blob/main/IdentifyLanguage.ipynb\" target=\"_parent\"><img src=\"https://colab.research.google.com/assets/colab-badge.svg\" alt=\"Open In Colab\"/></a>"
      ]
    },
    {
      "cell_type": "code",
      "execution_count": null,
      "metadata": {
        "colab": {
          "base_uri": "https://localhost:8080/"
        },
        "id": "JtD13ZEgLY47",
        "outputId": "53fb3bba-f86a-432d-f81c-718f2cf0f5e1"
      },
      "outputs": [
        {
          "output_type": "stream",
          "name": "stdout",
          "text": [
            "Enter a word in any language skoen\n",
            "The word \"skoen\" is from Afrikaans, and it means \"shoe\" in English.\n"
          ]
        }
      ],
      "source": [
        "import requests\n",
        "\n",
        "def get_language(word):\n",
        "  api_key = \"3af5d1040392d37b9oa8ta7a106b03d4\"\n",
        "  prompt = f\"specify the language the word {word} from\"\n",
        "  api_url = f\"https://api.shecodes.io/ai/v1/generate?prompt={prompt}&key={api_key}\"\n",
        "\n",
        "  api_respondse = requests.get(api_url)\n",
        "  api_data = api_respondse.json()\n",
        "\n",
        "  print(api_data[\"answer\"])\n",
        "\n",
        "\n",
        "word = input(\"Enter a word in any language \")\n",
        "word = word.strip()\n",
        "\n",
        "if word:\n",
        "  get_language(word)\n",
        "else:\n",
        "  print(\"Try again with a word\")"
      ]
    }
  ]
}