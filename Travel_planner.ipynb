{
  "nbformat": 4,
  "nbformat_minor": 0,
  "metadata": {
    "colab": {
      "provenance": [],
      "authorship_tag": "ABX9TyM0CVo8qWgSasD/PFnwYERz",
      "include_colab_link": true
    },
    "kernelspec": {
      "name": "python3",
      "display_name": "Python 3"
    },
    "language_info": {
      "name": "python"
    }
  },
  "cells": [
    {
      "cell_type": "markdown",
      "metadata": {
        "id": "view-in-github",
        "colab_type": "text"
      },
      "source": [
        "<a href=\"https://colab.research.google.com/github/Esronique/Learning-Python-and-AI/blob/main/Travel_planner.ipynb\" target=\"_parent\"><img src=\"https://colab.research.google.com/assets/colab-badge.svg\" alt=\"Open In Colab\"/></a>"
      ]
    },
    {
      "cell_type": "code",
      "execution_count": 16,
      "metadata": {
        "colab": {
          "base_uri": "https://localhost:8080/",
          "height": 1000
        },
        "id": "ErIhaqo56IA8",
        "outputId": "9391b8ce-c2fa-4f7f-c98a-e953328d8bb1"
      },
      "outputs": [
        {
          "output_type": "display_data",
          "data": {
            "text/plain": [
              "\u001b[35mWelcome to the AI Travel Itinerary Planner\u001b[0m\n"
            ],
            "text/html": [
              "<pre style=\"white-space:pre;overflow-x:auto;line-height:normal;font-family:Menlo,'DejaVu Sans Mono',consolas,'Courier New',monospace\"><span style=\"color: #800080; text-decoration-color: #800080\">Welcome to the AI Travel Itinerary Planner</span>\n",
              "</pre>\n"
            ]
          },
          "metadata": {}
        },
        {
          "name": "stdout",
          "output_type": "stream",
          "text": [
            "What city does your trip start from? Johannesburg\n",
            "What city is your trip going to? Durban\n",
            "How many days will your trip last? (enter a number i.e 5) 5\n"
          ]
        },
        {
          "output_type": "display_data",
          "data": {
            "text/plain": [
              "The current temperature in \u001b[1mJohannesburg\u001b[0m is \u001b[1;36m18.47\u001b[0m\u001b[1m C\u001b[0m, light rain.\n",
              "\n"
            ],
            "text/html": [
              "<pre style=\"white-space:pre;overflow-x:auto;line-height:normal;font-family:Menlo,'DejaVu Sans Mono',consolas,'Courier New',monospace\">The current temperature in <span style=\"font-weight: bold\">Johannesburg</span> is <span style=\"color: #008080; text-decoration-color: #008080; font-weight: bold\">18.47</span><span style=\"font-weight: bold\"> C</span>, light rain.\n",
              "\n",
              "</pre>\n"
            ]
          },
          "metadata": {}
        },
        {
          "output_type": "display_data",
          "data": {
            "text/plain": [
              "The current temperature in \u001b[1mDurban\u001b[0m is \u001b[1;36m25.36\u001b[0m\u001b[1m C\u001b[0m, overcast clouds.\n",
              "\n"
            ],
            "text/html": [
              "<pre style=\"white-space:pre;overflow-x:auto;line-height:normal;font-family:Menlo,'DejaVu Sans Mono',consolas,'Courier New',monospace\">The current temperature in <span style=\"font-weight: bold\">Durban</span> is <span style=\"color: #008080; text-decoration-color: #008080; font-weight: bold\">25.36</span><span style=\"font-weight: bold\"> C</span>, overcast clouds.\n",
              "\n",
              "</pre>\n"
            ]
          },
          "metadata": {}
        },
        {
          "output_type": "display_data",
          "data": {
            "text/plain": [
              "\n",
              "Generating itinerary from Johannesburg to Durban\n",
              "\n"
            ],
            "text/html": [
              "<pre style=\"white-space:pre;overflow-x:auto;line-height:normal;font-family:Menlo,'DejaVu Sans Mono',consolas,'Courier New',monospace\">\n",
              "Generating itinerary from Johannesburg to Durban\n",
              "\n",
              "</pre>\n"
            ]
          },
          "metadata": {}
        },
        {
          "output_type": "display_data",
          "data": {
            "text/plain": [
              "                             \u001b[1m5-Day Road Trip Itinerary: Johannesburg to Durban 🚗🌊✨\u001b[0m                              \n",
              "\n",
              "\u001b[1mDay 1: Departure from Johannesburg\u001b[0m                                                                                 \n",
              "\n",
              "\u001b[1;33m • \u001b[0m\u001b[1mMorning:\u001b[0m Depart from Johannesburg, early start (7 AM).                                                          \n",
              "\u001b[1;33m • \u001b[0m\u001b[1mStop:\u001b[0m Enjoy breakfast in \u001b[3mPretoria\u001b[0m (1 hour).                                                                     \n",
              "\u001b[1;33m • \u001b[0m\u001b[1mLunch:\u001b[0m Stop at \u001b[3mKriel\u001b[0m for a quick bite.                                                                          \n",
              "\u001b[1;33m • \u001b[0m\u001b[1mEvening:\u001b[0m Arrive in \u001b[3mMiddelburg\u001b[0m, explore the town.                                                                \n",
              "\u001b[1;33m • \u001b[0m\u001b[1mAccommodation:\u001b[0m Budget hotel in Middelburg.                                                                      \n",
              "\u001b[1;33m • \u001b[0m\u001b[1mEstimated Cost:\u001b[0m R600                                                                                            \n",
              "\n",
              "\u001b[33m───────────────────────────────────────────────────────────────────────────────────────────────────────────────────\u001b[0m\n",
              "\u001b[1mDay 2: Middelburg to Nelspruit\u001b[0m                                                                                     \n",
              "\n",
              "\u001b[1;33m • \u001b[0m\u001b[1mMorning:\u001b[0m Breakfast in Middelburg, then head to Nelspruit (3 hours).                                             \n",
              "\u001b[1;33m • \u001b[0m\u001b[1mLunch:\u001b[0m Enjoy a meal at \u001b[3mMbombela\u001b[0m.                                                                                \n",
              "\u001b[1;33m • \u001b[0m\u001b[1mAfternoon:\u001b[0m Visit the \u001b[3mLowveld Botanical Gardens\u001b[0m.                                                                 \n",
              "\u001b[1;33m • \u001b[0m\u001b[1mEvening:\u001b[0m Dinner at a local restaurant.                                                                          \n",
              "\u001b[1;33m • \u001b[0m\u001b[1mAccommodation:\u001b[0m Guesthouse in Nelspruit.                                                                         \n",
              "\u001b[1;33m • \u001b[0m\u001b[1mEstimated Cost:\u001b[0m R800                                                                                            \n",
              "\n",
              "\u001b[33m───────────────────────────────────────────────────────────────────────────────────────────────────────────────────\u001b[0m\n",
              "\u001b[1mDay 3: Nelspruit to Kruger National Park\u001b[0m                                                                           \n",
              "\n",
              "\u001b[1;33m • \u001b[0m\u001b[1mMorning:\u001b[0m Depart for \u001b[3mKruger National Park\u001b[0m (1 hour).                                                              \n",
              "\u001b[1;33m • \u001b[0m\u001b[1mActivity:\u001b[0m Full day of wildlife safari! 🦁🐘                                                                     \n",
              "\u001b[1;33m • \u001b[0m\u001b[1mLunch:\u001b[0m Picnic in the park.                                                                                      \n",
              "\u001b[1;33m • \u001b[0m\u001b[1mEvening:\u001b[0m Head to \u001b[3mHazyview\u001b[0m for dinner.                                                                           \n",
              "\u001b[1;33m • \u001b[0m\u001b[1mAccommodation:\u001b[0m Lodge in Hazyview.                                                                               \n",
              "\u001b[1;33m • \u001b[0m\u001b[1mEstimated Cost:\u001b[0m R1200                                                                                           \n",
              "\n",
              "\u001b[33m───────────────────────────────────────────────────────────────────────────────────────────────────────────────────\u001b[0m\n",
              "\u001b[1mDay 4: Hazyview to Durban\u001b[0m                                                                                          \n",
              "\n",
              "\u001b[1;33m • \u001b[0m\u001b[1mMorning:\u001b[0m Drive to Durban (5-hour journey).                                                                      \n",
              "\u001b[1;33m • \u001b[0m\u001b[1mLunch:\u001b[0m Stop at \u001b[3mPietermaritzburg\u001b[0m.                                                                                \n",
              "\u001b[1;33m • \u001b[0m\u001b[1mAfternoon:\u001b[0m Arrive in Durban, relax at the beach! 🏖️                                                              \n",
              "\u001b[1;33m • \u001b[0m\u001b[1mEvening:\u001b[0m Dinner at \u001b[3muShaka Marine World\u001b[0m.                                                                         \n",
              "\u001b[1;33m • \u001b[0m\u001b[1mAccommodation:\u001b[0m Beachfront hotel in Durban.                                                                      \n",
              "\u001b[1;33m • \u001b[0m\u001b[1mEstimated Cost:\u001b[0m R1500                                                                                           \n",
              "\n",
              "\u001b[33m───────────────────────────────────────────────────────────────────────────────────────────────────────────────────\u001b[0m\n",
              "\u001b[1mDay 5: Explore Durban\u001b[0m                                                                                              \n",
              "\n",
              "\u001b[1;33m • \u001b[0m\u001b[1mMorning:\u001b[0m Visit \u001b[3mDurban’s Golden Mile\u001b[0m.                                                                            \n",
              "\u001b[1;33m • \u001b[0m\u001b[1mLunch:\u001b[0m Local cuisine at \u001b[3mVictoria Street Market\u001b[0m.                                                                 \n",
              "\u001b[1;33m • \u001b[0m\u001b[1mAfternoon:\u001b[0m Explore \u001b[3mDurban Botanic Gardens\u001b[0m. 🌺                                                                   \n",
              "\u001b[1;33m • \u001b[0m\u001b[1mEvening:\u001b[0m Depart for Johannesburg or stay a bit longer.                                                          \n",
              "\u001b[1;33m • \u001b[0m\u001b[1mEstimated Cost:\u001b[0m R700                                                                                            \n",
              "\n",
              "\u001b[33m───────────────────────────────────────────────────────────────────────────────────────────────────────────────────\u001b[0m\n",
              "                                     \u001b[1mTotal Estimated Cost: R4500 for the trip.\u001b[0m                                     \n",
              "\n",
              "Have an unforgettable journey! 🌍💖                                                                                \n"
            ],
            "text/html": [
              "<pre style=\"white-space:pre;overflow-x:auto;line-height:normal;font-family:Menlo,'DejaVu Sans Mono',consolas,'Courier New',monospace\">                             <span style=\"font-weight: bold\">5-Day Road Trip Itinerary: Johannesburg to Durban 🚗🌊✨</span>                              \n",
              "\n",
              "<span style=\"font-weight: bold\">Day 1: Departure from Johannesburg</span>                                                                                 \n",
              "\n",
              "<span style=\"color: #808000; text-decoration-color: #808000; font-weight: bold\"> • </span><span style=\"font-weight: bold\">Morning:</span> Depart from Johannesburg, early start (7 AM).                                                          \n",
              "<span style=\"color: #808000; text-decoration-color: #808000; font-weight: bold\"> • </span><span style=\"font-weight: bold\">Stop:</span> Enjoy breakfast in <span style=\"font-style: italic\">Pretoria</span> (1 hour).                                                                     \n",
              "<span style=\"color: #808000; text-decoration-color: #808000; font-weight: bold\"> • </span><span style=\"font-weight: bold\">Lunch:</span> Stop at <span style=\"font-style: italic\">Kriel</span> for a quick bite.                                                                          \n",
              "<span style=\"color: #808000; text-decoration-color: #808000; font-weight: bold\"> • </span><span style=\"font-weight: bold\">Evening:</span> Arrive in <span style=\"font-style: italic\">Middelburg</span>, explore the town.                                                                \n",
              "<span style=\"color: #808000; text-decoration-color: #808000; font-weight: bold\"> • </span><span style=\"font-weight: bold\">Accommodation:</span> Budget hotel in Middelburg.                                                                      \n",
              "<span style=\"color: #808000; text-decoration-color: #808000; font-weight: bold\"> • </span><span style=\"font-weight: bold\">Estimated Cost:</span> R600                                                                                            \n",
              "\n",
              "<span style=\"color: #808000; text-decoration-color: #808000\">───────────────────────────────────────────────────────────────────────────────────────────────────────────────────</span>\n",
              "<span style=\"font-weight: bold\">Day 2: Middelburg to Nelspruit</span>                                                                                     \n",
              "\n",
              "<span style=\"color: #808000; text-decoration-color: #808000; font-weight: bold\"> • </span><span style=\"font-weight: bold\">Morning:</span> Breakfast in Middelburg, then head to Nelspruit (3 hours).                                             \n",
              "<span style=\"color: #808000; text-decoration-color: #808000; font-weight: bold\"> • </span><span style=\"font-weight: bold\">Lunch:</span> Enjoy a meal at <span style=\"font-style: italic\">Mbombela</span>.                                                                                \n",
              "<span style=\"color: #808000; text-decoration-color: #808000; font-weight: bold\"> • </span><span style=\"font-weight: bold\">Afternoon:</span> Visit the <span style=\"font-style: italic\">Lowveld Botanical Gardens</span>.                                                                 \n",
              "<span style=\"color: #808000; text-decoration-color: #808000; font-weight: bold\"> • </span><span style=\"font-weight: bold\">Evening:</span> Dinner at a local restaurant.                                                                          \n",
              "<span style=\"color: #808000; text-decoration-color: #808000; font-weight: bold\"> • </span><span style=\"font-weight: bold\">Accommodation:</span> Guesthouse in Nelspruit.                                                                         \n",
              "<span style=\"color: #808000; text-decoration-color: #808000; font-weight: bold\"> • </span><span style=\"font-weight: bold\">Estimated Cost:</span> R800                                                                                            \n",
              "\n",
              "<span style=\"color: #808000; text-decoration-color: #808000\">───────────────────────────────────────────────────────────────────────────────────────────────────────────────────</span>\n",
              "<span style=\"font-weight: bold\">Day 3: Nelspruit to Kruger National Park</span>                                                                           \n",
              "\n",
              "<span style=\"color: #808000; text-decoration-color: #808000; font-weight: bold\"> • </span><span style=\"font-weight: bold\">Morning:</span> Depart for <span style=\"font-style: italic\">Kruger National Park</span> (1 hour).                                                              \n",
              "<span style=\"color: #808000; text-decoration-color: #808000; font-weight: bold\"> • </span><span style=\"font-weight: bold\">Activity:</span> Full day of wildlife safari! 🦁🐘                                                                     \n",
              "<span style=\"color: #808000; text-decoration-color: #808000; font-weight: bold\"> • </span><span style=\"font-weight: bold\">Lunch:</span> Picnic in the park.                                                                                      \n",
              "<span style=\"color: #808000; text-decoration-color: #808000; font-weight: bold\"> • </span><span style=\"font-weight: bold\">Evening:</span> Head to <span style=\"font-style: italic\">Hazyview</span> for dinner.                                                                           \n",
              "<span style=\"color: #808000; text-decoration-color: #808000; font-weight: bold\"> • </span><span style=\"font-weight: bold\">Accommodation:</span> Lodge in Hazyview.                                                                               \n",
              "<span style=\"color: #808000; text-decoration-color: #808000; font-weight: bold\"> • </span><span style=\"font-weight: bold\">Estimated Cost:</span> R1200                                                                                           \n",
              "\n",
              "<span style=\"color: #808000; text-decoration-color: #808000\">───────────────────────────────────────────────────────────────────────────────────────────────────────────────────</span>\n",
              "<span style=\"font-weight: bold\">Day 4: Hazyview to Durban</span>                                                                                          \n",
              "\n",
              "<span style=\"color: #808000; text-decoration-color: #808000; font-weight: bold\"> • </span><span style=\"font-weight: bold\">Morning:</span> Drive to Durban (5-hour journey).                                                                      \n",
              "<span style=\"color: #808000; text-decoration-color: #808000; font-weight: bold\"> • </span><span style=\"font-weight: bold\">Lunch:</span> Stop at <span style=\"font-style: italic\">Pietermaritzburg</span>.                                                                                \n",
              "<span style=\"color: #808000; text-decoration-color: #808000; font-weight: bold\"> • </span><span style=\"font-weight: bold\">Afternoon:</span> Arrive in Durban, relax at the beach! 🏖️                                                              \n",
              "<span style=\"color: #808000; text-decoration-color: #808000; font-weight: bold\"> • </span><span style=\"font-weight: bold\">Evening:</span> Dinner at <span style=\"font-style: italic\">uShaka Marine World</span>.                                                                         \n",
              "<span style=\"color: #808000; text-decoration-color: #808000; font-weight: bold\"> • </span><span style=\"font-weight: bold\">Accommodation:</span> Beachfront hotel in Durban.                                                                      \n",
              "<span style=\"color: #808000; text-decoration-color: #808000; font-weight: bold\"> • </span><span style=\"font-weight: bold\">Estimated Cost:</span> R1500                                                                                           \n",
              "\n",
              "<span style=\"color: #808000; text-decoration-color: #808000\">───────────────────────────────────────────────────────────────────────────────────────────────────────────────────</span>\n",
              "<span style=\"font-weight: bold\">Day 5: Explore Durban</span>                                                                                              \n",
              "\n",
              "<span style=\"color: #808000; text-decoration-color: #808000; font-weight: bold\"> • </span><span style=\"font-weight: bold\">Morning:</span> Visit <span style=\"font-style: italic\">Durban’s Golden Mile</span>.                                                                            \n",
              "<span style=\"color: #808000; text-decoration-color: #808000; font-weight: bold\"> • </span><span style=\"font-weight: bold\">Lunch:</span> Local cuisine at <span style=\"font-style: italic\">Victoria Street Market</span>.                                                                 \n",
              "<span style=\"color: #808000; text-decoration-color: #808000; font-weight: bold\"> • </span><span style=\"font-weight: bold\">Afternoon:</span> Explore <span style=\"font-style: italic\">Durban Botanic Gardens</span>. 🌺                                                                   \n",
              "<span style=\"color: #808000; text-decoration-color: #808000; font-weight: bold\"> • </span><span style=\"font-weight: bold\">Evening:</span> Depart for Johannesburg or stay a bit longer.                                                          \n",
              "<span style=\"color: #808000; text-decoration-color: #808000; font-weight: bold\"> • </span><span style=\"font-weight: bold\">Estimated Cost:</span> R700                                                                                            \n",
              "\n",
              "<span style=\"color: #808000; text-decoration-color: #808000\">───────────────────────────────────────────────────────────────────────────────────────────────────────────────────</span>\n",
              "                                     <span style=\"font-weight: bold\">Total Estimated Cost: R4500 for the trip.</span>                                     \n",
              "\n",
              "Have an unforgettable journey! 🌍💖                                                                                \n",
              "</pre>\n"
            ]
          },
          "metadata": {}
        },
        {
          "output_type": "display_data",
          "data": {
            "text/plain": [
              "\n",
              "\u001b[35mThe AI Travel Itinerary Planner was built by \u001b[0m\u001b[1;35mEsronique Du Plessis\u001b[0m\u001b[35m, thank you for using it 🦄\u001b[0m\n"
            ],
            "text/html": [
              "<pre style=\"white-space:pre;overflow-x:auto;line-height:normal;font-family:Menlo,'DejaVu Sans Mono',consolas,'Courier New',monospace\">\n",
              "<span style=\"color: #800080; text-decoration-color: #800080\">The AI Travel Itinerary Planner was built by </span><span style=\"color: #800080; text-decoration-color: #800080; font-weight: bold\">Esronique Du Plessis</span><span style=\"color: #800080; text-decoration-color: #800080\">, thank you for using it 🦄</span>\n",
              "</pre>\n"
            ]
          },
          "metadata": {}
        }
      ],
      "source": [
        "import requests\n",
        "from rich import print\n",
        "from rich.markdown import Markdown\n",
        "\n",
        "def display_weather(location):\n",
        "\n",
        "  api_key = \"3af5d1040392d37b9oa8ta7a106b03d4\"\n",
        "  api_url = f\"https://api.shecodes.io/weather/v1/current?query={location}&key={api_key}\"\n",
        "\n",
        "  api_respondse = requests.get(api_url)\n",
        "  api_data = api_respondse.json()\n",
        "\n",
        "  temperature = api_data[\"temperature\"][\"current\"]\n",
        "  condition = api_data[\"condition\"][\"description\"]\n",
        "\n",
        "  print(f\"The current temperature in [bold]{location}[/bold] is [bold]{temperature} C[/bold], {condition}.\\n\")\n",
        "\n",
        "def generate_itinerary(origin,destination,duration):\n",
        "  print(f\"\\nGenerating itinerary from {origin} to {destination}\\n\")\n",
        "\n",
        "  prompt = f\"Generate a travel itinerary from {origin} to {destination} in {duration} days. This is a road trip keep, it short, user friendly, with 5 relevant emojies, less than 15 lines. Add estimated price per day\"\n",
        "  context = \"You are a travel specialist, and know the the best tourist spots around the world\"\n",
        "  api_key = \"3af5d1040392d37b9oa8ta7a106b03d4\"\n",
        "  api_url = f\"https://api.shecodes.io/ai/v1/generate?prompt={prompt}&context={context}&key={api_key}\"\n",
        "\n",
        "  api_respondse = requests.get(api_url)\n",
        "  api_data = api_respondse.json()\n",
        "  markdown_text = Markdown(api_data['answer'])\n",
        "\n",
        "  print(markdown_text)\n",
        "\n",
        "def welcome():\n",
        "  print(\"[magenta]Welcome to the AI Travel Itinerary Planner[/magenta]\")\n",
        "\n",
        "def credit():\n",
        "  print(\"\\n[magenta]The AI Travel Itinerary Planner was built by [bold]Esronique Du Plessis[/bold], thank you for using it 🦄[magenta]\")\n",
        "\n",
        "welcome()\n",
        "# Get some user inputs (origin, destination, duration)\n",
        "origin = input(\"What city does your trip start from? \")\n",
        "origin = origin.strip()\n",
        "destination = input(\"What city is your trip going to? \")\n",
        "destination = destination.strip()\n",
        "duration = input(\"How many days will your trip last? (enter a number i.e 5) \")\n",
        "duration = duration.strip()\n",
        "\n",
        "if origin and destination and duration.isdigit:\n",
        "  display_weather(origin)\n",
        "  display_weather(destination)\n",
        "  generate_itinerary(origin,destination,duration)\n",
        "  credit()\n",
        "else:\n",
        "  print(\"Please try again. Make sure you enter valid information.\")\n",
        "\n",
        "\n",
        "\n",
        "\n"
      ]
    }
  ]
}