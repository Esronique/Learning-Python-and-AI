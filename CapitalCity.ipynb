{
  "nbformat": 4,
  "nbformat_minor": 0,
  "metadata": {
    "colab": {
      "provenance": [],
      "authorship_tag": "ABX9TyPNS1a1/xxEEX0H+d8TFSAE",
      "include_colab_link": true
    },
    "kernelspec": {
      "name": "python3",
      "display_name": "Python 3"
    },
    "language_info": {
      "name": "python"
    }
  },
  "cells": [
    {
      "cell_type": "markdown",
      "metadata": {
        "id": "view-in-github",
        "colab_type": "text"
      },
      "source": [
        "<a href=\"https://colab.research.google.com/github/Esronique/Learning-Python-and-AI/blob/main/CapitalCity.ipynb\" target=\"_parent\"><img src=\"https://colab.research.google.com/assets/colab-badge.svg\" alt=\"Open In Colab\"/></a>"
      ]
    },
    {
      "cell_type": "code",
      "execution_count": null,
      "metadata": {
        "colab": {
          "base_uri": "https://localhost:8080/"
        },
        "id": "Gwk1r3JT-udw",
        "outputId": "43b2f121-1619-4755-ec42-3d2d43d2b459"
      },
      "outputs": [
        {
          "output_type": "stream",
          "name": "stdout",
          "text": [
            "What is the name of your favourite country?France\n",
            "The capital of France is Paris.\n"
          ]
        }
      ],
      "source": [
        "import requests\n",
        "\n",
        "def get_City(city):\n",
        "  api_key = \"3af5d1040392d37b9oa8ta7a106b03d4\"\n",
        "  prompt = f\"What is the capital {city} of France?\"\n",
        "  api_url = f\"https://api.shecodes.io/ai/v1/generate?prompt={prompt}&key={api_key}\"\n",
        "\n",
        "  api_respondse = requests.get(api_url)\n",
        "  api_data = api_respondse.json()\n",
        "\n",
        "  print(api_data[\"answer\"])\n",
        "\n",
        "\n",
        "country = input(\"What is the name of your favourite country?\")\n",
        "country = country.strip()\n",
        "\n",
        "if country:\n",
        "  get_City(country)\n",
        "else:\n",
        "  print(\"Try again with a country name\")\n",
        "\n",
        "\n",
        "\n"
      ]
    }
  ]
}