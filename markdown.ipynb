{
  "nbformat": 4,
  "nbformat_minor": 0,
  "metadata": {
    "colab": {
      "provenance": [],
      "authorship_tag": "ABX9TyNE9ZyzdEwG1JYKYq5GjxrH",
      "include_colab_link": true
    },
    "kernelspec": {
      "name": "python3",
      "display_name": "Python 3"
    },
    "language_info": {
      "name": "python"
    }
  },
  "cells": [
    {
      "cell_type": "markdown",
      "metadata": {
        "id": "view-in-github",
        "colab_type": "text"
      },
      "source": [
        "<a href=\"https://colab.research.google.com/github/Esronique/Learning-Python-and-AI/blob/main/markdown.ipynb\" target=\"_parent\"><img src=\"https://colab.research.google.com/assets/colab-badge.svg\" alt=\"Open In Colab\"/></a>"
      ]
    },
    {
      "cell_type": "code",
      "execution_count": 4,
      "metadata": {
        "colab": {
          "base_uri": "https://localhost:8080/",
          "height": 545
        },
        "id": "3om7WH09wt0Z",
        "outputId": "a68e95f3-f3e1-4777-9244-cad79d5ee541"
      },
      "outputs": [
        {
          "name": "stdout",
          "output_type": "stream",
          "text": [
            "What recipe would you like to try?fish\n"
          ]
        },
        {
          "output_type": "display_data",
          "data": {
            "text/plain": [
              "Sure! Here’s a simple recipe for a delicious baked fish with emojis:                                               \n",
              "\n",
              "                                            \u001b[1m🌟 Baked Lemon Herb Fish 🌟\u001b[0m                                            \n",
              "\n",
              "                                                   \u001b[1;2mIngredients:\u001b[0m                                                    \n",
              "\n",
              "\u001b[1;33m • \u001b[0m🐟 2 fillets of your favorite fish (like cod or salmon)                                                         \n",
              "\u001b[1;33m • \u001b[0m🍋 Juice of 1 lemon                                                                                             \n",
              "\u001b[1;33m • \u001b[0m🌿 2 tbsp fresh parsley, chopped                                                                                \n",
              "\u001b[1;33m • \u001b[0m🧄 2 cloves garlic, minced                                                                                      \n",
              "\u001b[1;33m • \u001b[0m🧂 Salt and pepper to taste                                                                                     \n",
              "\u001b[1;33m • \u001b[0m🧈 2 tbsp olive oil                                                                                             \n",
              "\u001b[1;33m • \u001b[0m🌶️ Optional: pinch of red pepper flakes                                                                          \n",
              "\n",
              "                                                   \u001b[1;2mInstructions:\u001b[0m                                                   \n",
              "\n",
              "\u001b[1;33m  1 \u001b[0m🔥 Preheat your oven to 400°F (200°C).                                                                         \n",
              "\u001b[1;33m  2 \u001b[0m🥄 In a bowl, mix olive oil, lemon juice, garlic, parsley, salt, and pepper.                                   \n",
              "\u001b[1;33m  3 \u001b[0m🍽️ Place fish fillets in a baking dish and pour the mixture over them.                                          \n",
              "\u001b[1;33m  4 \u001b[0m💨 Let marinate for 15 minutes if time allows.                                                                 \n",
              "\u001b[1;33m  5 \u001b[0m⏰ Bake in the preheated oven for 15-20 minutes until cooked through.                                          \n",
              "\u001b[1;33m  6 \u001b[0m🌼 Garnish with extra parsley and red pepper flakes if desired.                                                \n",
              "\u001b[1;33m  7 \u001b[0m🍽️ Serve warm with your favorite side dish.                                                                     \n",
              "\u001b[1;33m  8 \u001b[0m🍚 Goes great with rice or a fresh salad!                                                                      \n",
              "\u001b[1;33m  9 \u001b[0m🍷 Enjoy with a glass of white wine!                                                                           \n",
              "\u001b[1;33m 10 \u001b[0m😋 Savor every bite!                                                                                           \n",
              "\n",
              "Enjoy your meal! 🥳                                                                                                \n"
            ],
            "text/html": [
              "<pre style=\"white-space:pre;overflow-x:auto;line-height:normal;font-family:Menlo,'DejaVu Sans Mono',consolas,'Courier New',monospace\">Sure! Here’s a simple recipe for a delicious baked fish with emojis:                                               \n",
              "\n",
              "                                            <span style=\"font-weight: bold\">🌟 Baked Lemon Herb Fish 🌟</span>                                            \n",
              "\n",
              "                                                   <span style=\"color: #7f7f7f; text-decoration-color: #7f7f7f; font-weight: bold\">Ingredients:</span>                                                    \n",
              "\n",
              "<span style=\"color: #808000; text-decoration-color: #808000; font-weight: bold\"> • </span>🐟 2 fillets of your favorite fish (like cod or salmon)                                                         \n",
              "<span style=\"color: #808000; text-decoration-color: #808000; font-weight: bold\"> • </span>🍋 Juice of 1 lemon                                                                                             \n",
              "<span style=\"color: #808000; text-decoration-color: #808000; font-weight: bold\"> • </span>🌿 2 tbsp fresh parsley, chopped                                                                                \n",
              "<span style=\"color: #808000; text-decoration-color: #808000; font-weight: bold\"> • </span>🧄 2 cloves garlic, minced                                                                                      \n",
              "<span style=\"color: #808000; text-decoration-color: #808000; font-weight: bold\"> • </span>🧂 Salt and pepper to taste                                                                                     \n",
              "<span style=\"color: #808000; text-decoration-color: #808000; font-weight: bold\"> • </span>🧈 2 tbsp olive oil                                                                                             \n",
              "<span style=\"color: #808000; text-decoration-color: #808000; font-weight: bold\"> • </span>🌶️ Optional: pinch of red pepper flakes                                                                          \n",
              "\n",
              "                                                   <span style=\"color: #7f7f7f; text-decoration-color: #7f7f7f; font-weight: bold\">Instructions:</span>                                                   \n",
              "\n",
              "<span style=\"color: #808000; text-decoration-color: #808000; font-weight: bold\">  1 </span>🔥 Preheat your oven to 400°F (200°C).                                                                         \n",
              "<span style=\"color: #808000; text-decoration-color: #808000; font-weight: bold\">  2 </span>🥄 In a bowl, mix olive oil, lemon juice, garlic, parsley, salt, and pepper.                                   \n",
              "<span style=\"color: #808000; text-decoration-color: #808000; font-weight: bold\">  3 </span>🍽️ Place fish fillets in a baking dish and pour the mixture over them.                                          \n",
              "<span style=\"color: #808000; text-decoration-color: #808000; font-weight: bold\">  4 </span>💨 Let marinate for 15 minutes if time allows.                                                                 \n",
              "<span style=\"color: #808000; text-decoration-color: #808000; font-weight: bold\">  5 </span>⏰ Bake in the preheated oven for 15-20 minutes until cooked through.                                          \n",
              "<span style=\"color: #808000; text-decoration-color: #808000; font-weight: bold\">  6 </span>🌼 Garnish with extra parsley and red pepper flakes if desired.                                                \n",
              "<span style=\"color: #808000; text-decoration-color: #808000; font-weight: bold\">  7 </span>🍽️ Serve warm with your favorite side dish.                                                                     \n",
              "<span style=\"color: #808000; text-decoration-color: #808000; font-weight: bold\">  8 </span>🍚 Goes great with rice or a fresh salad!                                                                      \n",
              "<span style=\"color: #808000; text-decoration-color: #808000; font-weight: bold\">  9 </span>🍷 Enjoy with a glass of white wine!                                                                           \n",
              "<span style=\"color: #808000; text-decoration-color: #808000; font-weight: bold\"> 10 </span>😋 Savor every bite!                                                                                           \n",
              "\n",
              "Enjoy your meal! 🥳                                                                                                \n",
              "</pre>\n"
            ]
          },
          "metadata": {}
        }
      ],
      "source": [
        "import requests\n",
        "from rich import print\n",
        "from rich.markdown import Markdown\n",
        "\n",
        "def get_recipe(dish):\n",
        "  api_key = \"3af5d1040392d37b9oa8ta7a106b03d4\"\n",
        "  prompt = f\"Give a nice formated 10 line recipe for {dish} with emojies\"\n",
        "  api_url = f\"https://api.shecodes.io/ai/v1/generate?prompt={prompt}&key={api_key}\"\n",
        "\n",
        "  api_respondse = requests.get(api_url)\n",
        "  api_data = api_respondse.json()\n",
        "  markdown_text = Markdown(api_data['answer'])\n",
        "\n",
        "  print(markdown_text)\n",
        "\n",
        "dish = input(\"What recipe would you like to try? \")\n",
        "dish = dish.strip()\n",
        "\n",
        "if dish:\n",
        "  get_recipe(dish)\n",
        "else:\n",
        "  print(\"Please try again with the name of the dish\")"
      ]
    }
  ]
}