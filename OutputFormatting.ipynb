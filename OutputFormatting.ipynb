{
  "nbformat": 4,
  "nbformat_minor": 0,
  "metadata": {
    "colab": {
      "provenance": [],
      "authorship_tag": "ABX9TyOUtPnjn8IWGHIyBEIktCgH",
      "include_colab_link": true
    },
    "kernelspec": {
      "name": "python3",
      "display_name": "Python 3"
    },
    "language_info": {
      "name": "python"
    }
  },
  "cells": [
    {
      "cell_type": "markdown",
      "metadata": {
        "id": "view-in-github",
        "colab_type": "text"
      },
      "source": [
        "<a href=\"https://colab.research.google.com/github/Esronique/Learning-Python-and-AI/blob/main/OutputFormatting.ipynb\" target=\"_parent\"><img src=\"https://colab.research.google.com/assets/colab-badge.svg\" alt=\"Open In Colab\"/></a>"
      ]
    },
    {
      "cell_type": "code",
      "execution_count": null,
      "metadata": {
        "id": "U9FK2qGc0fbZ"
      },
      "outputs": [],
      "source": []
    },
    {
      "cell_type": "code",
      "execution_count": 5,
      "metadata": {
        "colab": {
          "base_uri": "https://localhost:8080/",
          "height": 36
        },
        "id": "3om7WH09wt0Z",
        "outputId": "8671a460-a25d-4cd7-ca6d-0e927bdc0e36"
      },
      "outputs": [
        {
          "output_type": "display_data",
          "data": {
            "text/plain": [
              "🍝 Arrabbiata; 🍕 Margherita Pizza; 🍝 Spaghetti Carbonara; 🍚 Risotto; 🍝 Tiramisu                                \n"
            ],
            "text/html": [
              "<pre style=\"white-space:pre;overflow-x:auto;line-height:normal;font-family:Menlo,'DejaVu Sans Mono',consolas,'Courier New',monospace\">🍝 Arrabbiata; 🍕 Margherita Pizza; 🍝 Spaghetti Carbonara; 🍚 Risotto; 🍝 Tiramisu                                \n",
              "</pre>\n"
            ]
          },
          "metadata": {}
        }
      ],
      "source": [
        "import requests\n",
        "from rich import print\n",
        "from rich.markdown import Markdown\n",
        "\n",
        "\n",
        "api_key = \"3af5d1040392d37b9oa8ta7a106b03d4\"\n",
        "prompt = f\"List 5 Italian dishes with an emoji before the name of the dish, no list,ordered alphabetically by dish name, seperate by semi-colon\"\n",
        "api_url = f\"https://api.shecodes.io/ai/v1/generate?prompt={prompt}&key={api_key}\"\n",
        "\n",
        "api_respondse = requests.get(api_url)\n",
        "api_data = api_respondse.json()\n",
        "markdown_text = Markdown(api_data['answer'])\n",
        "\n",
        "print(markdown_text)\n",
        "\n"
      ]
    }
  ]
}